{
 "cells": [
  {
   "cell_type": "markdown",
   "metadata": {},
   "source": [
    "# Hacks Tools & Equipment Play"
   ]
  },
  {
   "cell_type": "code",
   "execution_count": 28,
   "metadata": {},
   "outputs": [
    {
     "name": "stdout",
     "output_type": "stream",
     "text": [
      "1. Battery L, 1st Illinois Light Artillery Regiment: 429\n",
      "2. Steffen Mellemseter: 45\n",
      "3. Aleksandrs Leimanis: 71\n",
      "4. James Sullivan Lincoln: 532\n",
      "5. Lobesia euphorbiana: 20\n",
      "Average word count of the 5 random articles: 2️⃣1️⃣9️⃣\n"
     ]
    }
   ],
   "source": [
    "import wikipedia # import wikipedia library to generate random titles and access page contents\n",
    "import emoji\n",
    "\n",
    "# store number of articles as a constant\n",
    "ARTICLES = 5\n",
    "\n",
    "titles = wikipedia.random(5) # random list of 5 article titles on Wikipedia\n",
    "count = 0 # store average word count\n",
    "emojis = [\":zero:\", \":one:\", \":two:\", \":three:\", \":four:\", \":five:\", \":six:\", \":seven:\", \":eight:\", \":nine:\"]\n",
    "\n",
    "mean = \"\";\n",
    "\n",
    "# iterate through titles\n",
    "for title in titles:\n",
    "    while True:\n",
    "        try:\n",
    "            # attempt to find the page corresponding to the title\n",
    "            page = wikipedia.page(title)\n",
    "            break;\n",
    "        except wikipedia.exceptions.PageError:\n",
    "            # else find a new article\n",
    "            title = wikipedia.random()\n",
    "            \n",
    "    \n",
    "# iterate through the 5 article contents and count words\n",
    "for i in range(ARTICLES):\n",
    "    # split it by spaces using python .split() method\n",
    "    length = len(wikipedia.page(titles[i]).content.split())\n",
    "    # show user the title and the word count of each article\n",
    "    print(str(i + 1) + \". \" + titles[i] + \": \" + str(length))\n",
    "    # add word count to length\n",
    "    count += length\n",
    "    \n",
    "# divide total word count by 5\n",
    "count /= ARTICLES\n",
    "\n",
    "# we round the word count to avoid the period\n",
    "# iterate through the digits of the number\n",
    "for num in str(round(count)):\n",
    "    # turn each digit into an emoji and add it to the mean\n",
    "    mean += emoji.emojize(emojis[int(num)], language='alias')\n",
    "\n",
    "# print out final average word count\n",
    "print(f\"Average word count of the {ARTICLES} random articles: {mean}\")"
   ]
  }
 ],
 "metadata": {
  "kernelspec": {
   "display_name": "Python 3 (ipykernel)",
   "language": "python",
   "name": "python3"
  },
  "language_info": {
   "codemirror_mode": {
    "name": "ipython",
    "version": 3
   },
   "file_extension": ".py",
   "mimetype": "text/x-python",
   "name": "python",
   "nbconvert_exporter": "python",
   "pygments_lexer": "ipython3",
   "version": "3.10.12"
  }
 },
 "nbformat": 4,
 "nbformat_minor": 2
}
